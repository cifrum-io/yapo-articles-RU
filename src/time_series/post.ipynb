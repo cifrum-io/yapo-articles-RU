{
 "cells": [
  {
   "cell_type": "code",
   "execution_count": 1,
   "metadata": {},
   "outputs": [],
   "source": [
    "import yapo as yp\n",
    "import numpy as np\n",
    "from hamcrest import assert_that, calling, raises"
   ]
  },
  {
   "cell_type": "markdown",
   "metadata": {},
   "source": [
    "# Pyhton: Тип данных для финансовых вычислений или как избежать ошибок"
   ]
  },
  {
   "cell_type": "markdown",
   "metadata": {},
   "source": [
    "Работая с финансовыми данными, есть масса способов допустить ошибку. Многие из нас работали с большими таблицами временных рядов в EXCEL. Самой типичной, пожалуй, является работа с длинными цепочками данных закрытия како-нибудь ценной бумаги. Надо ли говорить, что простейшие операции (например, вычисление доходности в другой валюте) требуют внимательности? Когда речь идет об одном – двух вычислениях, всё нормально. Можно заставить себя всё проверить. Но при повторяющихся многоходовых вычислениях ошибка просто неизбежна.\n",
    "\n",
    "В этой статье мы расскажем, как контролировать правильность финансовых вычислений, связанных с временными рядами, при помощи **нового типа данных** в Python.\n",
    "\n",
    "Начнём с создания данных для двух временных рядов:\n",
    "- значения индекса S&P с января 2015 года по март 2016\n",
    "- значения инфляции США с января 2015 года по март 2016\n"
   ]
  },
  {
   "cell_type": "code",
   "execution_count": 2,
   "metadata": {},
   "outputs": [
    {
     "data": {
      "text/plain": [
       "array([182.4678, 192.7232, 189.6962, 191.5619, 194.0244, 190.0835,\n",
       "       194.3773, 182.5301, 177.8726, 193.0023, 193.7079, 190.36  ,\n",
       "       180.8834, 180.7333, 192.8904])"
      ]
     },
     "execution_count": 2,
     "metadata": {},
     "output_type": "execute_result"
    }
   ],
   "source": [
    "snp_asset = yp.portfolio_asset(name='us/SPY', \n",
    "                               start_period='2015-1', end_period='2016-3', currency='usd')\n",
    "snp_values = snp_asset.close().values\n",
    "snp_values"
   ]
  },
  {
   "cell_type": "code",
   "execution_count": 3,
   "metadata": {},
   "outputs": [
    {
     "data": {
      "text/plain": [
       "array([-4.706e-03,  4.343e-03,  5.952e-03,  2.033e-03,  5.097e-03,\n",
       "        3.503e-03,  6.700e-05, -1.416e-03, -1.557e-03, -4.500e-04,\n",
       "       -2.111e-03, -3.417e-03,  1.653e-03,  8.230e-04,  4.306e-03])"
      ]
     },
     "execution_count": 3,
     "metadata": {},
     "output_type": "execute_result"
    }
   ],
   "source": [
    "infl_usd = yp.inflation(currency='usd', kind='values', start_period='2015-1', end_period='2016-3')\n",
    "infl_usd_values = infl_usd.values\n",
    "infl_usd_values"
   ]
  },
  {
   "cell_type": "code",
   "execution_count": null,
   "metadata": {},
   "outputs": [],
   "source": []
  },
  {
   "cell_type": "markdown",
   "metadata": {},
   "source": [
    "## Примеры ошибок"
   ]
  },
  {
   "cell_type": "markdown",
   "metadata": {},
   "source": [
    "При финансовых вычислениях есть много вариантов допустить ошибку. Рассмотрим наиболее распространенные из них."
   ]
  },
  {
   "cell_type": "code",
   "execution_count": 4,
   "metadata": {},
   "outputs": [
    {
     "data": {
      "text/plain": [
       "array([182.4678, 192.7232, 189.6962, 191.5619, 194.0244, 190.0835,\n",
       "       194.3773, 182.5301, 177.8726, 193.0023, 193.7079, 190.36  ,\n",
       "       180.8834, 180.7333, 192.8904])"
      ]
     },
     "execution_count": 4,
     "metadata": {},
     "output_type": "execute_result"
    }
   ],
   "source": [
    "snp_values # значение индекса S&P 500"
   ]
  },
  {
   "cell_type": "code",
   "execution_count": 5,
   "metadata": {},
   "outputs": [
    {
     "data": {
      "text/plain": [
       "array([-4.706e-03,  4.343e-03,  5.952e-03,  2.033e-03,  5.097e-03,\n",
       "        3.503e-03,  6.700e-05, -1.416e-03, -1.557e-03, -4.500e-04,\n",
       "       -2.111e-03, -3.417e-03,  1.653e-03,  8.230e-04,  4.306e-03])"
      ]
     },
     "execution_count": 5,
     "metadata": {},
     "output_type": "execute_result"
    }
   ],
   "source": [
    "infl_usd_values # значение инфляции"
   ]
  },
  {
   "cell_type": "markdown",
   "metadata": {},
   "source": [
    "### Первый тип ошибок"
   ]
  },
  {
   "cell_type": "markdown",
   "metadata": {},
   "source": [
    "Посчитаем реальное значение доходности для индекса S&P:"
   ]
  },
  {
   "cell_type": "code",
   "execution_count": 6,
   "metadata": {},
   "outputs": [
    {
     "data": {
      "text/plain": [
       "array([183.33528184, 191.88549828, 188.56789191, 191.17121592,\n",
       "       193.03540156, 189.4164711 , 194.3642106 , 182.79034713,\n",
       "       178.15153895, 193.08964034, 194.11979789, 191.01611908,\n",
       "       180.5832429 , 180.58385649, 192.05908757])"
      ]
     },
     "execution_count": 6,
     "metadata": {},
     "output_type": "execute_result"
    }
   ],
   "source": [
    "(snp_values + 1.) / (infl_usd_values + 1.) - 1."
   ]
  },
  {
   "cell_type": "markdown",
   "metadata": {},
   "source": [
    "Несмотря на успешность выполнения операции, в этом подсчёте нет никакого смысла. Реальные значения доходности рассчитываются от доходности индекса, а не от его абсолютных значений. Ни `numpy.array`, ни встроенные средства `Python` не подсказывают об ошибке. \n",
    "\n",
    "Но этот тип ошибок относительно безобиден, так как полученне значения выглядят неправдоподобно, и это легко заметить.\n",
    "\n",
    "В целом этот тип ошибки можно отнести к операциям с несовместимыми данными. Так мы должны делать операции скорости со скоростью, а ускорения с ускорением. Здесь мы попытались использовать в одной формуле диснацию и скорость или нулевую производную с первой производной. \n",
    "    \n",
    "*ВНИМАНИЕ: здесь и далее определение производной неалгебраическое, т.к. мы имеем дело со временными рядами, а не с непрерывными функциями.*\n"
   ]
  },
  {
   "cell_type": "markdown",
   "metadata": {},
   "source": [
    "### Второй тип ошибки"
   ]
  },
  {
   "cell_type": "markdown",
   "metadata": {},
   "source": [
    "\n",
    "Как говорилось в [предыдущей статье](https://rostsber.ru/publish/stocks/python_asset.html), накопленная доходность считается так:"
   ]
  },
  {
   "cell_type": "code",
   "execution_count": 7,
   "metadata": {},
   "outputs": [
    {
     "data": {
      "text/plain": [
       "array([ 0.05620389, -0.01570646,  0.0098352 ,  0.01285485, -0.02031136,\n",
       "        0.02258902, -0.0609495 , -0.02551634,  0.08505919,  0.00365591,\n",
       "       -0.01728324, -0.04978252, -0.00082982,  0.06726541])"
      ]
     },
     "execution_count": 7,
     "metadata": {},
     "output_type": "execute_result"
    }
   ],
   "source": [
    "snp_ror = np.diff(snp_values) / snp_values[:-1]\n",
    "np.testing.assert_equal(snp_asset.get_return().values, snp_ror)\n",
    "snp_ror"
   ]
  },
  {
   "cell_type": "markdown",
   "metadata": {},
   "source": [
    "Посчитаем **реальные значения** накопленной доходности. \n",
    "\n",
    "Какой из следующих двух вариантов подсчёта реальной доходности правильный?"
   ]
  },
  {
   "cell_type": "code",
   "execution_count": 8,
   "metadata": {},
   "outputs": [
    {
     "data": {
      "text/plain": [
       "array([ 0.05163663, -0.02153032,  0.00778637,  0.00771851, -0.02373123,\n",
       "        0.02252051, -0.05961792, -0.0239967 ,  0.08554769,  0.00577911,\n",
       "       -0.01391378, -0.05135063, -0.00165146,  0.06268947])"
      ]
     },
     "execution_count": 8,
     "metadata": {},
     "output_type": "execute_result"
    }
   ],
   "source": [
    "snp_ror_real_1 = (snp_ror + 1.) / (infl_usd_values[1:] + 1.) - 1.\n",
    "snp_ror_real_1"
   ]
  },
  {
   "cell_type": "code",
   "execution_count": 9,
   "metadata": {},
   "outputs": [
    {
     "data": {
      "text/plain": [
       "array([ 0.06119789, -0.01996277,  0.00386022,  0.0107999 , -0.02527951,\n",
       "        0.0190194 , -0.06101242, -0.02413451,  0.08675127,  0.00410776,\n",
       "       -0.01520434, -0.04652449, -0.00247872,  0.06638778])"
      ]
     },
     "execution_count": 9,
     "metadata": {},
     "output_type": "execute_result"
    }
   ],
   "source": [
    "snp_ror_real_2 = (snp_ror + 1.) / (infl_usd_values[:-1] + 1.) - 1.\n",
    "snp_ror_real_2"
   ]
  },
  {
   "cell_type": "code",
   "execution_count": 10,
   "metadata": {},
   "outputs": [],
   "source": [
    "# check \n",
    "np.testing.assert_equal(\n",
    "    snp_asset.get_return(real=True).values,\n",
    "    snp_ror_real_1\n",
    ")"
   ]
  },
  {
   "cell_type": "markdown",
   "metadata": {},
   "source": [
    "Правильный ответ: первый. \n",
    "\n",
    "Во втором варианте проблема была в неправильной проекции `infl_usd_values` - временной ряд доходности с **февраля 2015 по март 2016** был поделен на временной ряд инфляции с **января 2015 по февраль 2016 года**. \n",
    "\n",
    "Теперь посчитаем реальное значение CAGR за 1 год:"
   ]
  },
  {
   "cell_type": "code",
   "execution_count": 11,
   "metadata": {},
   "outputs": [
    {
     "data": {
      "text/plain": [
       "0.016838502827152046"
      ]
     },
     "execution_count": 11,
     "metadata": {},
     "output_type": "execute_result"
    }
   ],
   "source": [
    "years_ago = 1\n",
    "snp_cagr = (snp_ror[-years_ago * 12:] + 1.).prod() ** (1 / years_ago) - 1.\n",
    "\n",
    "# check:\n",
    "assert snp_asset.cagr(years_ago=1).value == snp_cagr\n",
    "\n",
    "snp_cagr"
   ]
  },
  {
   "cell_type": "code",
   "execution_count": 12,
   "metadata": {},
   "outputs": [
    {
     "data": {
      "text/plain": [
       "array([ 2.033e-03,  5.097e-03,  3.503e-03,  6.700e-05, -1.416e-03,\n",
       "       -1.557e-03, -4.500e-04, -2.111e-03, -3.417e-03,  1.653e-03,\n",
       "        8.230e-04,  4.306e-03])"
      ]
     },
     "execution_count": 12,
     "metadata": {},
     "output_type": "execute_result"
    }
   ],
   "source": [
    "infl_usd_values[-years_ago*12:]"
   ]
  },
  {
   "cell_type": "code",
   "execution_count": 13,
   "metadata": {},
   "outputs": [],
   "source": [
    "# check\n",
    "assert snp_ror[-years_ago * 12:].shape == infl_usd_values[-years_ago * 12:].shape"
   ]
  },
  {
   "cell_type": "code",
   "execution_count": 14,
   "metadata": {},
   "outputs": [
    {
     "data": {
      "text/plain": [
       "0.010293339893818754"
      ]
     },
     "execution_count": 14,
     "metadata": {},
     "output_type": "execute_result"
    }
   ],
   "source": [
    "infl_usd_accumulated = (infl_usd_values[-years_ago * 12 + 1:] + 1.).prod() - 1.\n",
    "snp_cagr_real = (snp_cagr + 1.) / (infl_usd_accumulated + 1.) - 1.\n",
    "snp_cagr_real"
   ]
  },
  {
   "cell_type": "markdown",
   "metadata": {},
   "source": [
    "В канве статьи, здесь также есть ошибка. Оказывается, по аналогии с расчётом `snp_ror_real` программист решил взять инфляцию без первого значения, т.е. за 11 месяцев вместо 12, затем посчитал аккумулированное значение, а по сути разделил одно число, равное произведению 12 чисел, на другое число, равное произведению 11 чисел!\n",
    "\n",
    "Правильный расчёт будет такой:"
   ]
  },
  {
   "cell_type": "code",
   "execution_count": 15,
   "metadata": {},
   "outputs": [
    {
     "data": {
      "text/plain": [
       "0.008243580694267338"
      ]
     },
     "execution_count": 15,
     "metadata": {},
     "output_type": "execute_result"
    }
   ],
   "source": [
    "years_ago = 1\n",
    "snp_cagr = (snp_ror[-years_ago * 12:] + 1.).prod() ** (1 / years_ago) - 1.\n",
    "\n",
    "# check:\n",
    "assert snp_asset.cagr(years_ago=1).value == snp_cagr\n",
    "\n",
    "infl_usd_accumulated = (infl_usd_values[-years_ago * 12:] + 1.).prod() - 1.\n",
    "snp_cagr_real = (snp_cagr + 1.) / (infl_usd_accumulated + 1.) - 1.\n",
    "\n",
    "# check:\n",
    "assert snp_asset.cagr(years_ago=1, real=True).value == snp_cagr_real\n",
    "\n",
    "snp_cagr_real"
   ]
  },
  {
   "cell_type": "markdown",
   "metadata": {},
   "source": [
    "Второй тип ошибки, как можно заметить из примеров, связан с ситуациями, когда осуществляются математические операции с **несовместимыми рядами, охватывающими разные отрезки времени**.  Этот тип ошибок еще более распространен в финасовых вычислениях, и гораздо сложнее выявляется, приводя зачастую к значительным погрешностям в результатах."
   ]
  },
  {
   "cell_type": "markdown",
   "metadata": {},
   "source": [
    "## Как бороться с ошибками в финансовых вычислениях"
   ]
  },
  {
   "cell_type": "markdown",
   "metadata": {},
   "source": [
    "Для отлова таких ошибок в Python необходима \"расширенная\" версия `np.array`, которая бы:\n",
    "\n",
    "- имела мета-информацию над значениями `np.array`: \n",
    "   - начало и конец периода (дата и время)\n",
    "   - уровень частичных значений, чтобы отличать значения от производной и второй производной (и более высоких подярков, если такое понадобиться)\n",
    "- иметь такой же интерфейс методов как `np.array`, включая арифметические операции, достаточное для текущих задач множество, но расширяемое по мере необходимости\n",
    "- валидировать каждый вызов метода: соответствующие начальный период, конечный период, и уровень частичных значений должны совпадать\n",
    "\n",
    "Примером уровеней частичных значений для индекса S&P 500 может быть такой: значения индекса - **уровень 0**, доходность индекса - **уровень 1**. Инфляция (рост потребительских цен) и накопленная доходность - это другие примеры временных рядов **уровня 1**. \n",
    "\n",
    "Мне известны два принципиальных способа профилактики описанных ошибок:\n",
    "- вести реестр (хеш-таблица), в которой записывать всю мета-информацию, но всё равно придётся перегружать стандартные алгебраические операции, чтобы провалидировать данные\n",
    "- расширить класс `np.array` через композицию или наследование. Расширение через наследование, согласно [numpy API](https://docs.scipy.org/doc/numpy-1.15.0/user/basics.subclassing.html), особых преимуществ не даёт, а напротив может создать проблемы в случае изменения `numpy API`. \n",
    "\n",
    "Поэтому будет расширять через композицию:"
   ]
  },
  {
   "cell_type": "code",
   "execution_count": 16,
   "metadata": {},
   "outputs": [],
   "source": [
    "import pandas as pd\n",
    "\n",
    "class TimeSeries:\n",
    "    def __init__(self, values, start_period: pd.Period, end_period: pd.Period, diff_level):\n",
    "        if not isinstance(values, np.ndarray):\n",
    "            raise ValueError('values should be numpy array')\n",
    "        if len(values) != (end_period - start_period).n + 1:\n",
    "            raise ValueError('values and period range has different lengths')\n",
    "        self.values = values\n",
    "        self.start_period = start_period\n",
    "        self.end_period = end_period\n",
    "        self.diff_level = diff_level\n",
    "    \n",
    "    def __validate(self, time_series):\n",
    "        if self.start_period != time_series.start_period:\n",
    "            raise ValueError('start periods are incompatible')\n",
    "        if self.end_period != time_series.end_period:\n",
    "            raise ValueError('end periods are incompatible')\n",
    "        if self.diff_level != time_series.diff_level:\n",
    "            raise ValueError('diff levels are incompatible')\n",
    "    \n",
    "    def apply(self, fun, *args):\n",
    "        '''\n",
    "        Обобщённый метод для применения произвольной функции `fun` с аргументами `args` \n",
    "        к текущему экземпляру `TimeSeries`\n",
    "        '''\n",
    "        \n",
    "        # Сейчас TimeSeries поддерживает функции с 0 и 1 аргументом\n",
    "        \n",
    "        # Пример функции без аргументов: np.array([2, 4]).cumprod() ~> np.array([2, 8])\n",
    "        if len(args) == 0:\n",
    "            ts = TimeSeries(values=fun(self.values),\n",
    "                            start_period=self.start_period, end_period=self.end_period,\n",
    "                            diff_level=self.diff_level)\n",
    "            return ts\n",
    "        \n",
    "        # Сейчас TimeSeries в качестве второго аргумента поддерживает только TimeSeries или скаляр\n",
    "        else:\n",
    "            other = args[0]\n",
    "            if isinstance(other, TimeSeries):\n",
    "                self.__validate(other) # проверим, что TimeSeries совместимы\n",
    "                # для совместимых просто посчитаем функцию от значений\n",
    "                # мета-информация никак не меняется\n",
    "                ts = TimeSeries(values=fun(self.values, other.values), \n",
    "                                start_period=self.start_period, end_period=self.end_period,\n",
    "                                diff_level=self.diff_level)\n",
    "                return ts\n",
    "            \n",
    "            # скаляры применяются к значениям безусловно, при этом мета-информация никак не меняется\n",
    "            elif isinstance(other, (int, float)):\n",
    "                ts = TimeSeries(fun(self.values, other),\n",
    "                                start_period=self.start_period, end_period=self.end_period,\n",
    "                                diff_level=self.diff_level)\n",
    "                return ts\n",
    "            else:\n",
    "                raise ValueError('argument has incompatible type')\n",
    "    \n",
    "    # Все необходимые операции выражаются через apply\n",
    "    def __add__(self, other):\n",
    "        return self.apply(lambda x, y: x + y, other)\n",
    "    \n",
    "    def __sub__(self, other):\n",
    "        return self.apply(lambda x, y: x - y, other)\n",
    "    \n",
    "    def __truediv__(self, other):\n",
    "        return self.apply(lambda x, y: x / y, other)\n",
    "    \n",
    "    def cumprod(self):\n",
    "        return self.apply(lambda x: x.cumprod())\n",
    "    \n",
    "    def __repr__(self):\n",
    "        return 'TimeSeries(start_period={}, end_period={}, diff_level={}, values={}'.format(\n",
    "            self.start_period, self.end_period, self.diff_level, self.values\n",
    "        )"
   ]
  },
  {
   "cell_type": "code",
   "execution_count": null,
   "metadata": {},
   "outputs": [],
   "source": []
  },
  {
   "cell_type": "markdown",
   "metadata": {},
   "source": [
    "## Проверяем TimeSeries"
   ]
  },
  {
   "cell_type": "markdown",
   "metadata": {},
   "source": [
    "Имея такую надстройку, следующая попытка запуска расчетов с несовместимыми временными периодами ожидаемо привдёт к ошибке (`start periods are incompatible`):"
   ]
  },
  {
   "cell_type": "code",
   "execution_count": 17,
   "metadata": {},
   "outputs": [],
   "source": [
    "x = TimeSeries(values=np.array([4, 2]), \n",
    "               start_period=pd.Period('2015-1', freq='M'), \n",
    "               end_period=pd.Period('2015-2', freq='M'), \n",
    "               diff_level=1)\n",
    "\n",
    "y = TimeSeries(values=np.array([1, 2]), \n",
    "               start_period=pd.Period('2015-2', freq='M'), \n",
    "               end_period=pd.Period('2015-3', freq='M'), \n",
    "               diff_level=1)\n",
    "\n",
    "assert_that(\n",
    "    calling(lambda a, b: a / b).with_args(x, y), \n",
    "    raises(ValueError)\n",
    ")"
   ]
  },
  {
   "cell_type": "code",
   "execution_count": null,
   "metadata": {},
   "outputs": [],
   "source": []
  },
  {
   "cell_type": "markdown",
   "metadata": {},
   "source": [
    "Теперь посчитаем реальную доходность для индекса S&P с помощью `TimeSeries`:"
   ]
  },
  {
   "cell_type": "code",
   "execution_count": 18,
   "metadata": {},
   "outputs": [
    {
     "data": {
      "text/plain": [
       "TimeSeries(start_period=2015-02, end_period=2016-03, diff_level=1, values=[ 0.05163663 -0.02153032  0.00778637  0.00771851 -0.02373123  0.02252051\n",
       " -0.05961792 -0.0239967   0.08554769  0.00577911 -0.01391378 -0.05135063\n",
       " -0.00165146  0.06268947]"
      ]
     },
     "execution_count": 18,
     "metadata": {},
     "output_type": "execute_result"
    }
   ],
   "source": [
    "snp_ror_ts = TimeSeries(\n",
    "    # Для простоты, выше не были введены операции `diff` и адресации массива, что позволило сделать так:\n",
    "    # snp_ts = TimeSeries(...)\n",
    "    # snp_ror_ts = snp_ts.diff() / snp_ts[:-1]\n",
    "    # Это можно проделать в качестве упражнения\n",
    "    values=np.diff(snp_values) / snp_values[:-1], \n",
    "    start_period=pd.Period('2015-2', freq='M'),\n",
    "    end_period=pd.Period('2016-3', freq='M'),\n",
    "    diff_level=1,\n",
    ")\n",
    "\n",
    "infl_usd_ts = TimeSeries(\n",
    "    values=infl_usd_values[1:],\n",
    "    start_period=pd.Period('2015-2', freq='M'),\n",
    "    end_period=pd.Period('2016-3', freq='M'),\n",
    "    diff_level=1,\n",
    ")\n",
    "\n",
    "snp_ror_real_ts = (snp_ror_ts + 1.) / (infl_usd_ts + 1.) - 1.\n",
    "snp_ror_real_ts"
   ]
  },
  {
   "cell_type": "code",
   "execution_count": 19,
   "metadata": {},
   "outputs": [],
   "source": [
    "# check:\n",
    "np.testing.assert_equal(\n",
    "    snp_asset.get_return(real=True).values,\n",
    "    snp_ror_real_ts.values\n",
    ")"
   ]
  },
  {
   "cell_type": "markdown",
   "metadata": {},
   "source": [
    "## Другие классы финансовых данных"
   ]
  },
  {
   "cell_type": "markdown",
   "metadata": {},
   "source": [
    "Возможны случаи, когда временной ряд после применения операции преобразуется в одно число. Например, среднегодовая доходность (`CAGR`) временного ряда является скалярной величиной. `CAGR` не не вписывается в понятие временного ряда, `TimeSeries`. Поэтому лучше ввести дополнительный класс `TimeValue`, с идентичной метаинформацией, а далее при необходимости расширить список типов аргументов для второго параметра в функции `TimeSeries.apply`.\n",
    "\n",
    "\n",
    "В следующей статье мы рассмотрим пример вычисления портфеля из 2х активов."
   ]
  },
  {
   "cell_type": "markdown",
   "metadata": {},
   "source": [
    "## Реализация финансовых типов данных в библиотеке *yapo*"
   ]
  },
  {
   "cell_type": "markdown",
   "metadata": {},
   "source": [
    "В статье мы рассмотрели на примере простой способ решения задачи о совместимости временных рядов. Как всё устроено в реальной библиотеке, можно изучить в исходном коде [по ссылке](https://github.com/okama-io/yapo/blob/master/yapo/common/time_series.py). И каждый метод библиотеки, возвращающий временной ряд, использует `TimeSeries` для работы с результатом:"
   ]
  },
  {
   "cell_type": "code",
   "execution_count": 20,
   "metadata": {},
   "outputs": [
    {
     "data": {
      "text/plain": [
       "TimeSeries(start_period=2015-01, end_period=2016-03, kind=TimeSeriesKind.VALUES, values=[182.4678 192.7232 189.6962 191.5619 194.0244 190.0835 194.3773 182.5301\n",
       " 177.8726 193.0023 193.7079 190.36   180.8834 180.7333 192.8904]"
      ]
     },
     "execution_count": 20,
     "metadata": {},
     "output_type": "execute_result"
    }
   ],
   "source": [
    "snp_asset.close()"
   ]
  },
  {
   "cell_type": "code",
   "execution_count": 21,
   "metadata": {},
   "outputs": [
    {
     "data": {
      "text/plain": [
       "TimeSeries(start_period=2015-02, end_period=2016-03, kind=TimeSeriesKind.DIFF, values=[ 0.05620389 -0.01570646  0.0098352   0.01285485 -0.02031136  0.02258902\n",
       " -0.0609495  -0.02551634  0.08505919  0.00365591 -0.01728324 -0.04978252\n",
       " -0.00082982  0.06726541]"
      ]
     },
     "execution_count": 21,
     "metadata": {},
     "output_type": "execute_result"
    }
   ],
   "source": [
    "snp_asset.get_return()"
   ]
  },
  {
   "cell_type": "code",
   "execution_count": 22,
   "metadata": {},
   "outputs": [
    {
     "data": {
      "text/plain": [
       "TimeSeries(start_period=2015-02, end_period=2016-03, kind=TimeSeriesKind.DIFF, values=[ 0.05163663 -0.02153032  0.00778637  0.00771851 -0.02373123  0.02252051\n",
       " -0.05961792 -0.0239967   0.08554769  0.00577911 -0.01391378 -0.05135063\n",
       " -0.00165146  0.06268947]"
      ]
     },
     "execution_count": 22,
     "metadata": {},
     "output_type": "execute_result"
    }
   ],
   "source": [
    "snp_asset.get_return(real='True')"
   ]
  },
  {
   "cell_type": "code",
   "execution_count": 23,
   "metadata": {},
   "outputs": [
    {
     "data": {
      "text/plain": [
       "TimeSeries(start_period=2015-02, end_period=2016-03, kind=TimeSeriesKind.CUMULATIVE, values=[ 0.05620389  0.03961466  0.04983948  0.06333501  0.04173723  0.06526905\n",
       "  0.00034143 -0.02518362  0.05773347  0.06160046  0.04325256 -0.00868318\n",
       " -0.00950579  0.05712022]"
      ]
     },
     "execution_count": 23,
     "metadata": {},
     "output_type": "execute_result"
    }
   ],
   "source": [
    "snp_asset.get_return(kind='cumulative')"
   ]
  },
  {
   "cell_type": "code",
   "execution_count": 24,
   "metadata": {},
   "outputs": [
    {
     "data": {
      "text/plain": [
       "TimeSeries(start_period=2015-02, end_period=2016-03, kind=TimeSeriesKind.REDUCED_VALUE, values=[0.04876464]"
      ]
     },
     "execution_count": 24,
     "metadata": {},
     "output_type": "execute_result"
    }
   ],
   "source": [
    "snp_asset.cagr()"
   ]
  },
  {
   "cell_type": "code",
   "execution_count": 25,
   "metadata": {},
   "outputs": [
    {
     "data": {
      "text/plain": [
       "TimeSeries(start_period=2015-01, end_period=2016-03, kind=TimeSeriesKind.DIFF, values=[-4.706e-03  4.343e-03  5.952e-03  2.033e-03  5.097e-03  3.503e-03\n",
       "  6.700e-05 -1.416e-03 -1.557e-03 -4.500e-04 -2.111e-03 -3.417e-03\n",
       "  1.653e-03  8.230e-04  4.306e-03]"
      ]
     },
     "execution_count": 25,
     "metadata": {},
     "output_type": "execute_result"
    }
   ],
   "source": [
    "yp.inflation(currency='usd', kind='values', start_period='2015-1', end_period='2016-3')"
   ]
  },
  {
   "cell_type": "code",
   "execution_count": null,
   "metadata": {},
   "outputs": [],
   "source": []
  }
 ],
 "metadata": {
  "kernelspec": {
   "display_name": "Python 3",
   "language": "python",
   "name": "python3"
  },
  "language_info": {
   "codemirror_mode": {
    "name": "ipython",
    "version": 3
   },
   "file_extension": ".py",
   "mimetype": "text/x-python",
   "name": "python",
   "nbconvert_exporter": "python",
   "pygments_lexer": "ipython3",
   "version": "3.7.3"
  },
  "varInspector": {
   "cols": {
    "lenName": 16,
    "lenType": 16,
    "lenVar": 40
   },
   "kernels_config": {
    "python": {
     "delete_cmd_postfix": "",
     "delete_cmd_prefix": "del ",
     "library": "var_list.py",
     "varRefreshCmd": "print(var_dic_list())"
    },
    "r": {
     "delete_cmd_postfix": ") ",
     "delete_cmd_prefix": "rm(",
     "library": "var_list.r",
     "varRefreshCmd": "cat(var_dic_list()) "
    }
   },
   "types_to_exclude": [
    "module",
    "function",
    "builtin_function_or_method",
    "instance",
    "_Feature"
   ],
   "window_display": false
  }
 },
 "nbformat": 4,
 "nbformat_minor": 2
}
